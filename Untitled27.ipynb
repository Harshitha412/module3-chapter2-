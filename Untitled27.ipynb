{
  "nbformat": 4,
  "nbformat_minor": 0,
  "metadata": {
    "colab": {
      "name": "Untitled27.ipynb",
      "provenance": [],
      "collapsed_sections": [],
      "authorship_tag": "ABX9TyMtJYlWM6o4yjRr9hRNFU05",
      "include_colab_link": true
    },
    "kernelspec": {
      "name": "python3",
      "display_name": "Python 3"
    }
  },
  "cells": [
    {
      "cell_type": "markdown",
      "metadata": {
        "id": "view-in-github",
        "colab_type": "text"
      },
      "source": [
        "<a href=\"https://colab.research.google.com/github/Harshitha412/module3-chapter2-/blob/master/Untitled27.ipynb\" target=\"_parent\"><img src=\"https://colab.research.google.com/assets/colab-badge.svg\" alt=\"Open In Colab\"/></a>"
      ]
    },
    {
      "cell_type": "code",
      "metadata": {
        "id": "7Nse0ygP9FND",
        "colab_type": "code",
        "colab": {
          "base_uri": "https://localhost:8080/",
          "height": 84
        },
        "outputId": "49b7aa78-ee7a-4a12-a8f4-d9df26a56afb"
      },
      "source": [
        "#python program to find GCD of two numbers\n",
        "a = float(input(\"please enter the first value a:\"))\n",
        "b = float(input(\"please enter the second value b:\"))\n",
        "i=1\n",
        "while(i<= a and i <=b):\n",
        "  if(a % i == 0 and b % i == 0):\n",
        "    gcd = i\n",
        "  i=i+1\n",
        "while(i <= a and i <= b):\n",
        "  if(a % i == 0 and b % i == 0):\n",
        "    gcd = i\n",
        "  i = i + 1\n",
        "print(\"\\n HCF of {0} and {1} = {2}\".format(a,b,gcd))"
      ],
      "execution_count": 1,
      "outputs": [
        {
          "output_type": "stream",
          "text": [
            "please enter the first value a:4\n",
            "please enter the second value b:6\n",
            "\n",
            " HCF of 4.0 and 6.0 = 2\n"
          ],
          "name": "stdout"
        }
      ]
    },
    {
      "cell_type": "code",
      "metadata": {
        "id": "GqFrxVg3CyqZ",
        "colab_type": "code",
        "colab": {
          "base_uri": "https://localhost:8080/",
          "height": 67
        },
        "outputId": "a70a3173-b665-44ef-ea3d-5baf3d0f4f27"
      },
      "source": [
        "#python program that accepts a word from the user and reverse it\n",
        "word = input(\"input a word to reverse: \")\n",
        "for char in range(len(word) -1,-1,-1):\n",
        "  print(word[char],end=\"\")\n",
        "print(\"\\n\")"
      ],
      "execution_count": 2,
      "outputs": [
        {
          "output_type": "stream",
          "text": [
            "input a word to reverse: vijayawada\n",
            "adawayajiv\n",
            "\n"
          ],
          "name": "stdout"
        }
      ]
    },
    {
      "cell_type": "code",
      "metadata": {
        "id": "tI8x2LJ7Dd6V",
        "colab_type": "code",
        "colab": {
          "base_uri": "https://localhost:8080/",
          "height": 50
        },
        "outputId": "ffdeaabd-0f87-4abf-c84e-591d52ac5e39"
      },
      "source": [
        "#python program to count the number of even and odd numbers from the series of numbers.\n",
        "numbers = (1,2,3,4,5,6,7,8,9)#declaring the tuple\n",
        "count_odd = 0\n",
        "count_even = 0\n",
        "for x in numbers:\n",
        "     if not x % 2:\n",
        "       count_even+=1\n",
        "     else:\n",
        "       count_odd+=1\n",
        "print(\"number of even numbers :\",count_even)\n",
        "print(\"number of odd numbers :\",count_odd)"
      ],
      "execution_count": 5,
      "outputs": [
        {
          "output_type": "stream",
          "text": [
            "number of even numbers : 4\n",
            "number of odd numbers : 5\n"
          ],
          "name": "stdout"
        }
      ]
    },
    {
      "cell_type": "code",
      "metadata": {
        "id": "ZvzSGihCFC0o",
        "colab_type": "code",
        "colab": {
          "base_uri": "https://localhost:8080/",
          "height": 50
        },
        "outputId": "c0e36ef5-83a2-487e-af26-572a0d83de80"
      },
      "source": [
        "#python program that prints all the numbers from 0 to 6 except 3 and 6\n",
        "for x in range(6):\n",
        "  if (x == 3 or x == 6):\n",
        "    continue\n",
        "  print(x,end='')\n",
        "print(\"\\n\")"
      ],
      "execution_count": 6,
      "outputs": [
        {
          "output_type": "stream",
          "text": [
            "01245\n",
            "\n"
          ],
          "name": "stdout"
        }
      ]
    }
  ]
}