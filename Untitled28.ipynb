{
  "nbformat": 4,
  "nbformat_minor": 0,
  "metadata": {
    "colab": {
      "name": "Untitled28.ipynb",
      "provenance": [],
      "collapsed_sections": [],
      "authorship_tag": "ABX9TyNaes1seR+j9rok0RcibSbP",
      "include_colab_link": true
    },
    "kernelspec": {
      "name": "python3",
      "display_name": "Python 3"
    }
  },
  "cells": [
    {
      "cell_type": "markdown",
      "metadata": {
        "id": "view-in-github",
        "colab_type": "text"
      },
      "source": [
        "<a href=\"https://colab.research.google.com/github/Harshitha412/module3-chapter2-/blob/master/Untitled28.ipynb\" target=\"_parent\"><img src=\"https://colab.research.google.com/assets/colab-badge.svg\" alt=\"Open In Colab\"/></a>"
      ]
    },
    {
      "cell_type": "code",
      "metadata": {
        "id": "7mQvVe1XWXQh",
        "colab_type": "code",
        "colab": {
          "base_uri": "https://localhost:8080/",
          "height": 50
        },
        "outputId": "f72a6daf-368e-42da-aa0e-2c12dfa8e1fd"
      },
      "source": [
        "#python program to caliculate the length of the string\n",
        "str = input(\"enter a string\")\n",
        "counter=0\n",
        "for s in str:\n",
        "  counter=counter+1\n",
        "print(\"length of the input string is:\",counter)\n"
      ],
      "execution_count": null,
      "outputs": [
        {
          "output_type": "stream",
          "text": [
            "enter a stringgitam\n",
            "length of the input string is: 5\n"
          ],
          "name": "stdout"
        }
      ]
    },
    {
      "cell_type": "code",
      "metadata": {
        "id": "g_2slTJVXmDh",
        "colab_type": "code",
        "colab": {
          "base_uri": "https://localhost:8080/",
          "height": 50
        },
        "outputId": "50920509-e1d5-4996-c71f-8de66551b3d6"
      },
      "source": [
        "#python program to count the number of characters in a string\n",
        "input_string=\"data science\"\n",
        "frequencies={}\n",
        "for char in input_string:\n",
        "  if char in frequencies:\n",
        "    frequencies[char]+=1\n",
        "  else:\n",
        "    frequencies[char]=1\n",
        "print(\"per char frequency in '{}' is:\\n{}\".format(input_string,(frequencies)))\n"
      ],
      "execution_count": null,
      "outputs": [
        {
          "output_type": "stream",
          "text": [
            "per char frequency in 'data science' is:\n",
            "{'d': 1, 'a': 2, 't': 1, ' ': 1, 's': 1, 'c': 2, 'i': 1, 'e': 2, 'n': 1}\n"
          ],
          "name": "stdout"
        }
      ]
    },
    {
      "cell_type": "code",
      "metadata": {
        "id": "Pr1M9Kjwdkyf",
        "colab_type": "code",
        "colab": {
          "base_uri": "https://localhost:8080/",
          "height": 34
        },
        "outputId": "218e1fbd-839f-43b4-b7c7-e2e4c055468b"
      },
      "source": [
        "#python program to get a single string from two given strings,seperated by a space and swap the first two characters of each string\n",
        "def chars_mix_up(a,b):\n",
        "  new_a=b[:2]+a[2:]\n",
        "  new_b=a[:2]+b[2:]\n",
        "  return new_a+''+new_b\n",
        "print(chars_mix_up('abc','xyz'))"
      ],
      "execution_count": null,
      "outputs": [
        {
          "output_type": "stream",
          "text": [
            "xycabz\n"
          ],
          "name": "stdout"
        }
      ]
    },
    {
      "cell_type": "code",
      "metadata": {
        "id": "ZafDYOLTeTRO",
        "colab_type": "code",
        "colab": {
          "base_uri": "https://localhost:8080/",
          "height": 67
        },
        "outputId": "2f1efab8-0aca-4674-9b93-e87cd5c2c10a"
      },
      "source": [
        "#python script that takes input from the user and displays the input back in upper and lower cases\n",
        "user_input=input(\"which is your favourite language?\")\n",
        "print(\"my favourite language is\",user_input.upper())\n",
        "print(\"my favourite language is\",user_input.lower())\n"
      ],
      "execution_count": null,
      "outputs": [
        {
          "output_type": "stream",
          "text": [
            "which is your favourite language?biology\n",
            "my favourite language is BIOLOGY\n",
            "my favourite language is biology\n"
          ],
          "name": "stdout"
        }
      ]
    },
    {
      "cell_type": "code",
      "metadata": {
        "id": "1_2fUgoPiOzc",
        "colab_type": "code",
        "colab": {
          "base_uri": "https://localhost:8080/",
          "height": 67
        },
        "outputId": "0c24dec9-0e40-4981-b122-ccc7f5937476"
      },
      "source": [
        "#python program to remove a newline in python\n",
        "str1='python assignment-8\\n'\n",
        "print(str1)\n",
        "print(str1.rstrip())\n",
        "\n"
      ],
      "execution_count": null,
      "outputs": [
        {
          "output_type": "stream",
          "text": [
            "python assignment-8\n",
            "\n",
            "python assignment-8\n"
          ],
          "name": "stdout"
        }
      ]
    },
    {
      "cell_type": "code",
      "metadata": {
        "id": "VafG_v-nj3Om",
        "colab_type": "code",
        "colab": {
          "base_uri": "https://localhost:8080/",
          "height": 67
        },
        "outputId": "e4a3aad7-6108-4ff3-febd-9282207e5691"
      },
      "source": [
        "#python program to count occurrences of a substring in a string\n",
        "str1='the elder sister fight with younger sister.'\n",
        "print()\n",
        "print(str1.count(\"sister\"))\n",
        "print()"
      ],
      "execution_count": null,
      "outputs": [
        {
          "output_type": "stream",
          "text": [
            "\n",
            "2\n",
            "\n"
          ],
          "name": "stdout"
        }
      ]
    },
    {
      "cell_type": "code",
      "metadata": {
        "id": "SvNFZ9d_kRUQ",
        "colab_type": "code",
        "colab": {
          "base_uri": "https://localhost:8080/",
          "height": 34
        },
        "outputId": "ac2bc911-5352-4c65-af44-d5bb155def98"
      },
      "source": [
        "#python program to convert a string in a list\n",
        "def convert(string):\n",
        "   li = list(string.split())\n",
        "   return li\n",
        "str1 = \"i want chocolates and icecreame\"\n",
        "print(convert(str1))"
      ],
      "execution_count": 9,
      "outputs": [
        {
          "output_type": "stream",
          "text": [
            "['i', 'want', 'chocolates', 'and', 'icecreame']\n"
          ],
          "name": "stdout"
        }
      ]
    },
    {
      "cell_type": "code",
      "metadata": {
        "id": "VG1q7tIVu4HX",
        "colab_type": "code",
        "colab": {
          "base_uri": "https://localhost:8080/",
          "height": 118
        },
        "outputId": "352b0585-02c8-427c-b741-e417d4dd3972"
      },
      "source": [
        "#python program to perform deletion of a character\n",
        "def remove_char(str,n):\n",
        "  first_part=str[:n]\n",
        "  last_part=str[n+1:]\n",
        "  return first_part+last_part\n",
        "print(remove_char('python',0))\n",
        "print(remove_char('python',1))\n",
        "print(remove_char('python',2))\n",
        "print(remove_char('python',3))\n",
        "print(remove_char('python',4))\n",
        "print(remove_char('python',5))"
      ],
      "execution_count": 2,
      "outputs": [
        {
          "output_type": "stream",
          "text": [
            "ython\n",
            "pthon\n",
            "pyhon\n",
            "pyton\n",
            "pythn\n",
            "pytho\n"
          ],
          "name": "stdout"
        }
      ]
    },
    {
      "cell_type": "code",
      "metadata": {
        "id": "fMGS---FwJje",
        "colab_type": "code",
        "colab": {
          "base_uri": "https://localhost:8080/",
          "height": 185
        },
        "outputId": "ecaf83ea-e517-4271-ed2c-8bdea43fac08"
      },
      "source": [
        "#to print every character of a string entered by user in a new line using loop\n",
        "word=\"helloworld\"\n",
        "for index,letter in enumerate(word,1):\n",
        "  print(index,\":\",letter)"
      ],
      "execution_count": 4,
      "outputs": [
        {
          "output_type": "stream",
          "text": [
            "1 : h\n",
            "2 : e\n",
            "3 : l\n",
            "4 : l\n",
            "5 : o\n",
            "6 : w\n",
            "7 : o\n",
            "8 : r\n",
            "9 : l\n",
            "10 : d\n"
          ],
          "name": "stdout"
        }
      ]
    },
    {
      "cell_type": "code",
      "metadata": {
        "id": "hbASWZzFwwBb",
        "colab_type": "code",
        "colab": {
          "base_uri": "https://localhost:8080/",
          "height": 34
        },
        "outputId": "996bc47c-6601-45fe-8233-28766afda1bf"
      },
      "source": [
        "#to find the length of the string\"refrigerator\"without using len function\n",
        "a=\"refrigerator\"\n",
        "count=0\n",
        "for i in a:\n",
        "  count=count+1\n",
        "print(count)\n"
      ],
      "execution_count": 7,
      "outputs": [
        {
          "output_type": "stream",
          "text": [
            "12\n"
          ],
          "name": "stdout"
        }
      ]
    }
  ]
}